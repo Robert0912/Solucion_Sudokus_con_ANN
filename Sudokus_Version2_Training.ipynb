{
  "nbformat": 4,
  "nbformat_minor": 0,
  "metadata": {
    "colab": {
      "name": "Sudokus_Version_Training.ipynb",
      "provenance": [],
      "collapsed_sections": [],
      "mount_file_id": "1IJ5LnkckLHvw8zBbKq0uaSt1neG6KRpe",
      "authorship_tag": "ABX9TyNsZ0nAoZ1fsk1TMg7unVFW",
      "include_colab_link": true
    },
    "kernelspec": {
      "display_name": "Python 3",
      "name": "python3"
    }
  },
  "cells": [
    {
      "cell_type": "markdown",
      "metadata": {
        "id": "view-in-github",
        "colab_type": "text"
      },
      "source": [
        "<a href=\"https://colab.research.google.com/github/Robert0912/Solucion_Sudokus_con_ANN/blob/main/Sudokus_Version2_Training.ipynb\" target=\"_parent\"><img src=\"https://colab.research.google.com/assets/colab-badge.svg\" alt=\"Open In Colab\"/></a>"
      ]
    },
    {
      "cell_type": "markdown",
      "metadata": {
        "id": "U15Qjpd9PvrC"
      },
      "source": [
        "##Preprocesamiento de datos"
      ]
    },
    {
      "cell_type": "code",
      "metadata": {
        "id": "f1APr3KxLF0j"
      },
      "source": [
        "import numpy as np\n",
        "import pandas as pd\n",
        "from sklearn.model_selection import train_test_split\n",
        "\n",
        "data = pd.read_csv('/content/drive/MyDrive/Documents/Universidad/sudoku2.csv')\n",
        "\n",
        "feat_raw = data['quizzes']\n",
        "label_raw = data['solutions']\n",
        "\n",
        "feat = []\n",
        "label = []\n",
        "\n",
        "for i in feat_raw:\n",
        "\n",
        "    x = np.array([int(j) for j in i]).reshape((9,9,1))\n",
        "    feat.append(x)\n",
        "\n",
        "feat = np.array(feat)\n",
        "feat = feat/9\n",
        "feat -= .5    \n",
        "\n",
        "for i in label_raw:\n",
        "\n",
        "    x = np.array([int(j) for j in i]).reshape((81,1)) - 1\n",
        "    label.append(x)   \n",
        "\n",
        "label = np.array(label)\n",
        "\n",
        "del(feat_raw)\n",
        "del(label_raw)    \n",
        "\n",
        "X_train, X_test, Y_train, Y_test = train_test_split(feat, label, test_size=0.2)"
      ],
      "execution_count": 4,
      "outputs": []
    },
    {
      "cell_type": "markdown",
      "metadata": {
        "id": "ezX9arxBP2Au"
      },
      "source": [
        "##Entrenamiento del Modelo"
      ]
    },
    {
      "cell_type": "code",
      "metadata": {
        "id": "xD2Tp363NkhW",
        "colab": {
          "base_uri": "https://localhost:8080/"
        },
        "outputId": "69c61200-cb49-4aca-e0d8-9496e07a57ad"
      },
      "source": [
        "import keras\n",
        "from keras.layers import Activation\n",
        "from keras.layers import BatchNormalization, Dense, Flatten, Reshape\n",
        "\n",
        "model = keras.models.Sequential()\n",
        "\n",
        "model.add(Dense(64, activation='relu', input_shape=(9,9,1)))\n",
        "model.add(BatchNormalization())\n",
        "model.add(Dense(64, activation='relu'))\n",
        "model.add(BatchNormalization())\n",
        "model.add(Dense(128, activation='relu'))\n",
        "\n",
        "model.add(Flatten())\n",
        "model.add(Dense(81*9))\n",
        "model.add(Reshape((-1, 9)))\n",
        "model.add(Activation('softmax'))\n",
        "\n",
        "adam = keras.optimizers.Adam(lr=.001)\n",
        "model.compile(loss='sparse_categorical_crossentropy', optimizer=adam)\n",
        "\n",
        "model.fit(X_train, Y_train, batch_size=32, epochs=2)\n",
        "model.save(\"modelo2.h5\")"
      ],
      "execution_count": 5,
      "outputs": [
        {
          "output_type": "stream",
          "text": [
            "Epoch 1/2\n",
            "25000/25000 [==============================] - 2143s 86ms/step - loss: 0.4379\n",
            "Epoch 2/2\n",
            "25000/25000 [==============================] - 2117s 85ms/step - loss: 0.3914\n"
          ],
          "name": "stdout"
        }
      ]
    },
    {
      "cell_type": "markdown",
      "metadata": {
        "id": "kb69yL1cTG24"
      },
      "source": [
        "##Funciones para la solucionar modelos "
      ]
    },
    {
      "cell_type": "code",
      "metadata": {
        "id": "DlXBh9GzRnoM"
      },
      "source": [
        "def norm(a):\n",
        "    \n",
        "  return (a/9)-.5\n",
        "\n",
        "def denorm(a):\n",
        "    \n",
        "  return (a+.5)*9\n",
        "\n",
        "import copy\n",
        "\n",
        "def inference_sudoku(sample):\n",
        "    \n",
        "    feat = copy.copy(sample)\n",
        "    \n",
        "    while(1):\n",
        "    \n",
        "        out = model.predict(feat.reshape((1,9,9,1)))  \n",
        "        out = out.squeeze()\n",
        "\n",
        "        pred = np.argmax(out, axis=1).reshape((9,9))+1 \n",
        "        prob = np.around(np.max(out, axis=1).reshape((9,9)), 2) \n",
        "        \n",
        "        feat = denorm(feat).reshape((9,9))\n",
        "        mask = (feat==0)\n",
        "     \n",
        "        if(mask.sum()==0):\n",
        "            break\n",
        "            \n",
        "        prob_new = prob*mask\n",
        "    \n",
        "        ind = np.argmax(prob_new)\n",
        "        x, y = (ind//9), (ind%9)\n",
        "\n",
        "        val = pred[x][y]\n",
        "        feat[x][y] = val\n",
        "        feat = norm(feat)\n",
        "    \n",
        "    return pred\n",
        "\n",
        "def test_accuracy(feats, labels):\n",
        "    \n",
        "    correct = 0\n",
        "    \n",
        "    for i,feat in enumerate(feats):\n",
        "        \n",
        "        pred = inference_sudoku(feat)\n",
        "        \n",
        "        true = labels[i].reshape((9,9))+1\n",
        "        \n",
        "        if(abs(true - pred).sum()==0):\n",
        "            correct += 1\n",
        "        \n",
        "    print(correct/feats.shape[0])\n",
        "\n",
        "def rendimiento(x,y,y_predict):\n",
        "\n",
        "  diff = y_predict [[0]] - y[[0]]\n",
        "\n",
        "  iguales_y_vs_ypredict=(float(np.count_nonzero(diff==0)))\n",
        "\n",
        "  correctos_previos=np.count_nonzero(x[[0]])\n",
        "\n",
        "  diferencia=iguales_y_vs_ypredict-correctos_previos\n",
        "\n",
        "  if diferencia>0:\n",
        "\n",
        "    return diferencia/((81)-correctos_previos)\n",
        "\n",
        "  else:\n",
        "\n",
        "    return diferencia/(correctos_previos)"
      ],
      "execution_count": 6,
      "outputs": []
    },
    {
      "cell_type": "markdown",
      "metadata": {
        "id": "u7pkha4mYUcm"
      },
      "source": [
        "##Mediciones de exactitud"
      ]
    },
    {
      "cell_type": "code",
      "metadata": {
        "colab": {
          "base_uri": "https://localhost:8080/"
        },
        "id": "0t53Lbjdp3CG",
        "outputId": "05538349-c026-4e78-dfbc-ff7f6a7d2a92"
      },
      "source": [
        "test_accuracy(X_test[:100], Y_test[:100])"
      ],
      "execution_count": 8,
      "outputs": [
        {
          "output_type": "stream",
          "text": [
            "0.91\n"
          ],
          "name": "stdout"
        }
      ]
    },
    {
      "cell_type": "markdown",
      "metadata": {
        "id": "aTabmjHtYbjS"
      },
      "source": [
        "##Soluciones de Sudokus al azar"
      ]
    },
    {
      "cell_type": "code",
      "metadata": {
        "id": "QxhZZ9zdR8jL"
      },
      "source": [
        "def solve_sudoku(game):\n",
        "    \n",
        "    game = game.replace('\\n', '')\n",
        "    game = game.replace(' ', '')\n",
        "    game = np.array([int(j) for j in game]).reshape((9,9,1))\n",
        "    game = norm(game)\n",
        "    game = inference_sudoku(game)\n",
        "    return game"
      ],
      "execution_count": 9,
      "outputs": []
    },
    {
      "cell_type": "code",
      "metadata": {
        "colab": {
          "base_uri": "https://localhost:8080/"
        },
        "id": "Wvy-WJ_XSHWA",
        "outputId": "de7a484c-b907-4605-a3d6-aafe2fd92bfe"
      },
      "source": [
        "game1 = '''\n",
        "          0 6 0 1 0 4 0 5 0\n",
        "          0 0 8 3 0 5 6 0 0\n",
        "          2 0 0 0 0 0 0 0 1\n",
        "          8 0 0 4 0 7 0 0 6\n",
        "          0 0 6 0 0 0 3 0 0\n",
        "          7 0 0 9 0 1 0 0 4\n",
        "          5 0 0 0 0 0 0 0 2\n",
        "          0 0 7 2 0 6 9 0 0\n",
        "          0 4 0 5 0 8 0 7 0\n",
        "      '''\n",
        "\n",
        "game1 = solve_sudoku(game1)\n",
        "\n",
        "print('Sudoku Resuelto:\\n')\n",
        "print(game1)"
      ],
      "execution_count": 10,
      "outputs": [
        {
          "output_type": "stream",
          "text": [
            "Sudoku Resuelto:\n",
            "\n",
            "[[3 6 9 1 2 4 7 5 8]\n",
            " [4 1 8 3 7 5 6 2 9]\n",
            " [2 7 5 6 8 9 4 3 1]\n",
            " [8 5 1 4 3 7 2 9 6]\n",
            " [9 4 6 8 5 2 3 1 7]\n",
            " [7 2 3 9 6 1 5 8 4]\n",
            " [5 9 4 7 1 3 8 6 2]\n",
            " [1 3 7 2 4 6 9 4 5]\n",
            " [6 4 2 5 9 8 1 7 3]]\n"
          ],
          "name": "stdout"
        }
      ]
    },
    {
      "cell_type": "code",
      "metadata": {
        "colab": {
          "base_uri": "https://localhost:8080/"
        },
        "id": "Em9R-e5ehj1P",
        "outputId": "12ce23f7-64d2-4428-d649-2d57c8e408ae"
      },
      "source": [
        "game2 = '''\n",
        "          0 8 0 0 3 2 0 0 1\n",
        "          7 0 3 0 8 0 0 0 2\n",
        "          5 0 0 0 0 7 0 3 0\n",
        "          0 5 0 0 0 1 9 7 0\n",
        "          6 0 0 7 0 9 0 0 8\n",
        "          0 4 7 2 0 0 0 5 0\n",
        "          0 2 0 6 0 0 0 0 9\n",
        "          8 0 0 0 9 0 3 0 5\n",
        "          3 0 0 8 2 0 0 1 0\n",
        "      '''\n",
        "\n",
        "game2 = solve_sudoku(game2)\n",
        "\n",
        "print('Sudoku Resuelto:\\n')\n",
        "print(game2)"
      ],
      "execution_count": 11,
      "outputs": [
        {
          "output_type": "stream",
          "text": [
            "Sudoku Resuelto:\n",
            "\n",
            "[[4 8 9 5 3 2 7 6 1]\n",
            " [7 1 3 4 8 6 5 9 2]\n",
            " [5 6 2 9 1 7 8 3 4]\n",
            " [2 5 8 3 4 1 9 7 6]\n",
            " [6 3 1 7 5 9 2 4 8]\n",
            " [9 4 7 2 6 8 1 5 3]\n",
            " [1 2 5 6 7 3 4 8 9]\n",
            " [8 7 6 1 9 4 3 2 5]\n",
            " [3 9 4 8 2 5 6 1 7]]\n"
          ],
          "name": "stdout"
        }
      ]
    },
    {
      "cell_type": "code",
      "metadata": {
        "colab": {
          "base_uri": "https://localhost:8080/"
        },
        "id": "WBWf5llPL_WL",
        "outputId": "7c61a58e-adde-436d-e108-47e3cd811a70"
      },
      "source": [
        "game3 = '''\n",
        "          5 3 0 0 7 0 0 0 0 \n",
        "          6 0 0 1 9 5 0 0 0\n",
        "          0 9 8 0 0 0 0 6 0\n",
        "          8 0 0 0 6 0 0 0 3\n",
        "          4 0 0 8 0 3 0 0 1\n",
        "          7 0 0 0 2 0 0 0 6\n",
        "          0 6 0 0 0 0 2 8 0\n",
        "          0 0 0 4 1 9 0 0 5\n",
        "          0 0 0 0 8 0 0 7 9\n",
        "      '''\n",
        "\n",
        "game3 = solve_sudoku(game3)\n",
        "\n",
        "print('Sudoku Resuelto:\\n')\n",
        "print(game3)"
      ],
      "execution_count": 12,
      "outputs": [
        {
          "output_type": "stream",
          "text": [
            "Sudoku Resuelto:\n",
            "\n",
            "[[5 3 4 6 7 8 9 1 2]\n",
            " [6 7 2 1 9 5 3 4 8]\n",
            " [1 9 8 3 4 2 5 6 7]\n",
            " [8 5 9 7 6 1 4 2 3]\n",
            " [4 2 6 8 5 3 7 9 1]\n",
            " [7 1 3 9 2 4 8 5 6]\n",
            " [9 6 1 5 3 7 2 8 4]\n",
            " [2 8 7 4 1 9 6 3 5]\n",
            " [3 4 5 2 8 6 1 7 9]]\n"
          ],
          "name": "stdout"
        }
      ]
    }
  ]
}