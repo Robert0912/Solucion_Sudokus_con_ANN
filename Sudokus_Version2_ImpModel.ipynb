{
  "nbformat": 4,
  "nbformat_minor": 0,
  "metadata": {
    "colab": {
      "name": "Sudokus_Version2_ImpModel.ipynb",
      "provenance": [],
      "mount_file_id": "1Azua-jw3Bu8fEmZzCrJD4-F2CLdmH3g6",
      "authorship_tag": "ABX9TyMY9CdjI7GMLvFwqZrZflSs",
      "include_colab_link": true
    },
    "kernelspec": {
      "name": "python3",
      "display_name": "Python 3"
    }
  },
  "cells": [
    {
      "cell_type": "markdown",
      "metadata": {
        "id": "view-in-github",
        "colab_type": "text"
      },
      "source": [
        "<a href=\"https://colab.research.google.com/github/Robert0912/Solucion_Sudokus_con_ANN/blob/main/Sudokus_Version2_ImpModel.ipynb\" target=\"_parent\"><img src=\"https://colab.research.google.com/assets/colab-badge.svg\" alt=\"Open In Colab\"/></a>"
      ]
    },
    {
      "cell_type": "code",
      "metadata": {
        "id": "uAYObQgZtzIi"
      },
      "source": [
        "import numpy as np\n",
        "import pandas as pd\n",
        "from sklearn.model_selection import train_test_split\n",
        "\n",
        "data = pd.read_csv('/content/drive/MyDrive/Documents/Universidad/sudoku2.csv')\n",
        "\n",
        "feat_raw = data['quizzes']\n",
        "label_raw = data['solutions']\n",
        "\n",
        "feat = []\n",
        "label = []\n",
        "\n",
        "for i in feat_raw:\n",
        "\n",
        "    x = np.array([int(j) for j in i]).reshape((9,9,1))\n",
        "    feat.append(x)\n",
        "\n",
        "feat = np.array(feat)\n",
        "feat = feat/9\n",
        "feat -= .5    \n",
        "\n",
        "for i in label_raw:\n",
        "\n",
        "    x = np.array([int(j) for j in i]).reshape((81,1)) - 1\n",
        "    label.append(x)   \n",
        "\n",
        "label = np.array(label)\n",
        "\n",
        "del(feat_raw)\n",
        "del(label_raw)    \n",
        "\n",
        "X_train, X_test, Y_train, Y_test = train_test_split(feat, label, test_size=0.2)"
      ],
      "execution_count": null,
      "outputs": []
    },
    {
      "cell_type": "code",
      "metadata": {
        "colab": {
          "base_uri": "https://localhost:8080/"
        },
        "id": "ciZTb4H7wwIH",
        "outputId": "53ae173b-9792-4580-ebdb-c3825db872bb"
      },
      "source": [
        "print(X_test.shape)\n",
        "print(Y_test.shape)\n",
        "\n",
        "print(X_train.shape)\n",
        "print(Y_train.shape)"
      ],
      "execution_count": null,
      "outputs": [
        {
          "output_type": "stream",
          "text": [
            "(200000, 9, 9, 1)\n",
            "(200000, 81, 1)\n",
            "(800000, 9, 9, 1)\n",
            "(800000, 81, 1)\n"
          ],
          "name": "stdout"
        }
      ]
    },
    {
      "cell_type": "code",
      "metadata": {
        "id": "DjtjJ91brDdE"
      },
      "source": [
        "import keras\n",
        "from keras.layers import Activation\n",
        "from keras.layers import BatchNormalization, Dense, Flatten, Reshape\n",
        "\n",
        "model = keras.models.load_model(\"/content/drive/MyDrive/Documents/Universidad/modelo2.h5\") "
      ],
      "execution_count": null,
      "outputs": []
    },
    {
      "cell_type": "code",
      "metadata": {
        "id": "Urkbk0rksJre"
      },
      "source": [
        "def norm(a):\n",
        "    \n",
        "  return (a/9)-.5\n",
        "\n",
        "def denorm(a):\n",
        "    \n",
        "  return (a+.5)*9\n",
        "\n",
        "import copy\n",
        "\n",
        "def inference_sudoku(sample):\n",
        "    \n",
        "    feat = copy.copy(sample)\n",
        "    \n",
        "    while(1):\n",
        "    \n",
        "        out = model.predict(feat.reshape((1,9,9,1)))  \n",
        "        out = out.squeeze()\n",
        "\n",
        "        pred = np.argmax(out, axis=1).reshape((9,9))+1 \n",
        "        prob = np.around(np.max(out, axis=1).reshape((9,9)), 2) \n",
        "        \n",
        "        feat = denorm(feat).reshape((9,9))\n",
        "        mask = (feat==0)\n",
        "     \n",
        "        if(mask.sum()==0):\n",
        "            break\n",
        "            \n",
        "        prob_new = prob*mask\n",
        "    \n",
        "        ind = np.argmax(prob_new)\n",
        "        x, y = (ind//9), (ind%9)\n",
        "\n",
        "        val = pred[x][y]\n",
        "        feat[x][y] = val\n",
        "        feat = norm(feat)\n",
        "    \n",
        "    return pred\n",
        "\n",
        "def accuracy(predicted_labels, actual_labels):\n",
        "  \n",
        "  predicted_labels = np.reshape(predicted_labels,(1,81))\n",
        "  actual_labels = np.reshape(actual_labels,(1,81))\n",
        "  diff = predicted_labels[0] - actual_labels[0]\n",
        "\n",
        "  return (float(np.count_nonzero(diff==0)) / len(diff))   \n",
        "\n",
        "def rendimiento(x,y,y_predict):\n",
        "\n",
        "  diff = y_predict [[0]] - y[[0]]\n",
        "\n",
        "  iguales_y_vs_ypredict=(float(np.count_nonzero(diff==0)))\n",
        "\n",
        "  correctos_previos=np.count_nonzero(x[[0]])\n",
        "\n",
        "  diferencia=iguales_y_vs_ypredict-correctos_previos\n",
        "\n",
        "  if diferencia>0:\n",
        "\n",
        "    return diferencia/((81)-correctos_previos)\n",
        "\n",
        "  else:\n",
        "\n",
        "    return diferencia/(correctos_previos)"
      ],
      "execution_count": null,
      "outputs": []
    },
    {
      "cell_type": "code",
      "metadata": {
        "colab": {
          "base_uri": "https://localhost:8080/"
        },
        "id": "YaVKH5Tss2et",
        "outputId": "05a31ea7-228a-4351-cc8a-8c9ae4d5f7e3"
      },
      "source": [
        "a = 100\n",
        "\n",
        "acc = np.zeros(a)\n",
        "pred = np.zeros((9,9,a))\n",
        "\n",
        "for j in range(a):\n",
        "  pred[:,:,j] = inference_sudoku(X_test[j,:,:,0])\n",
        "\n",
        "print(pred.shape)"
      ],
      "execution_count": null,
      "outputs": [
        {
          "output_type": "stream",
          "text": [
            "(9, 9, 100)\n"
          ],
          "name": "stdout"
        }
      ]
    },
    {
      "cell_type": "code",
      "metadata": {
        "colab": {
          "base_uri": "https://localhost:8080/"
        },
        "id": "415nzuO6xfi6",
        "outputId": "aefdaf71-6392-4a70-b05c-cabfb7b7a22f"
      },
      "source": [
        "acc = np.zeros(a)\n",
        "ren = np.zeros(a)\n",
        "\n",
        "for i in range(a):\n",
        "  acc[i] = accuracy(pred[:,:,i], Y_test[i,:,0]+1)\n",
        "  ren[i] = rendimiento(np.reshape(denorm(X_test[i,:,:,0]),(1,81)),np.reshape(Y_test[i,:,0]+1,(1,81)),np.reshape(pred[:,:,i],(1,81)))\n",
        "\n",
        "print(sum(acc)/a)\n",
        "print(max(acc))\n",
        "print(min(acc))\n",
        "\n",
        "\n",
        "print(sum(ren)/a)\n",
        "print(max(ren))\n",
        "print(min(ren))"
      ],
      "execution_count": null,
      "outputs": [
        {
          "output_type": "stream",
          "text": [
            "0.9937037037037036\n",
            "1.0\n",
            "0.7530864197530864\n",
            "0.9891330569256529\n",
            "1.0\n",
            "0.5918367346938775\n"
          ],
          "name": "stdout"
        }
      ]
    },
    {
      "cell_type": "code",
      "metadata": {
        "colab": {
          "base_uri": "https://localhost:8080/"
        },
        "id": "wyd_VT9C7jOA",
        "outputId": "56bc33e6-6316-472b-a3f8-d6fb031027e9"
      },
      "source": [
        "print(denorm(X_test[0,:,:,0]))\n",
        "print(inference_sudoku(X_test[0,:,:,0]))\n",
        "print(Y_test[0,:,0]+1)\n"
      ],
      "execution_count": null,
      "outputs": [
        {
          "output_type": "stream",
          "text": [
            "[[8. 1. 2. 0. 9. 6. 4. 3. 0.]\n",
            " [6. 0. 5. 0. 3. 0. 0. 0. 8.]\n",
            " [4. 0. 3. 8. 2. 5. 1. 0. 0.]\n",
            " [0. 6. 0. 9. 5. 3. 0. 4. 0.]\n",
            " [9. 2. 0. 6. 0. 1. 7. 5. 0.]\n",
            " [0. 0. 0. 0. 0. 0. 0. 0. 6.]\n",
            " [2. 0. 0. 0. 6. 7. 0. 0. 0.]\n",
            " [1. 0. 6. 4. 0. 0. 0. 0. 0.]\n",
            " [0. 0. 7. 3. 1. 2. 0. 9. 4.]]\n",
            "[[8 1 2 7 9 6 4 3 5]\n",
            " [6 9 5 1 3 4 2 7 8]\n",
            " [4 7 3 8 2 5 1 6 9]\n",
            " [7 6 1 9 5 3 8 4 2]\n",
            " [9 2 8 6 4 1 7 5 3]\n",
            " [3 5 4 2 7 8 9 1 6]\n",
            " [2 4 9 5 6 7 3 8 1]\n",
            " [1 3 6 4 8 9 5 2 7]\n",
            " [5 8 7 3 1 2 6 9 4]]\n",
            "[8 1 2 7 9 6 4 3 5 6 9 5 1 3 4 2 7 8 4 7 3 8 2 5 1 6 9 7 6 1 9 5 3 8 4 2 9\n",
            " 2 8 6 4 1 7 5 3 3 5 4 2 7 8 9 1 6 2 4 9 5 6 7 3 8 1 1 3 6 4 8 9 5 2 7 5 8\n",
            " 7 3 1 2 6 9 4]\n"
          ],
          "name": "stdout"
        }
      ]
    }
  ]
}